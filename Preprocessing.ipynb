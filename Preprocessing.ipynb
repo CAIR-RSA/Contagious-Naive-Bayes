{
 "cells": [
  {
   "cell_type": "code",
   "execution_count": null,
   "metadata": {},
   "outputs": [],
   "source": [
    "def preprocessing(file):\n",
    "    '''\n",
    "    Input:\n",
    "        File: Text documents\n",
    "    Output:\n",
    "        Lemmatized_out: List filled with preprocessed text\n",
    "    Description:\n",
    "        Simple pre-processing to remove noise from corpus\n",
    "    '''\n",
    "    lemmatizer = WordNetLemmatizer()\n",
    "    for row in file:\n",
    "        sentence = str(row)\n",
    "        # Set all characters to lowercase\n",
    "        lower_case = sentence.lower()\n",
    "        # Remove non-alphabetic characters\n",
    "        no_alpha = re.sub(r'[^\\w\\s]','',lower_case)\n",
    "        # Remove underscore character\n",
    "        no_under = re.sub(r\"_\",\"\",no_alpha)\n",
    "        # Tokenize\n",
    "        token = word_tokenize(no_under)\n",
    "        # Lemmatize\n",
    "        lemmatized_out = ' '.join([lemmatizer.lemmatize(w) for w in token])\n",
    "\n",
    "        return lemmatized_out"
   ]
  }
 ],
 "metadata": {
  "kernelspec": {
   "display_name": "Python 3",
   "language": "python",
   "name": "python3"
  },
  "language_info": {
   "codemirror_mode": {
    "name": "ipython",
    "version": 3
   },
   "file_extension": ".py",
   "mimetype": "text/x-python",
   "name": "python",
   "nbconvert_exporter": "python",
   "pygments_lexer": "ipython3",
   "version": "3.7.3"
  }
 },
 "nbformat": 4,
 "nbformat_minor": 2
}
